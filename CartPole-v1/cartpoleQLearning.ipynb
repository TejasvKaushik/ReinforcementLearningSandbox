{
 "cells": [
  {
   "cell_type": "code",
   "execution_count": 2,
   "metadata": {},
   "outputs": [],
   "source": [
    "import gymnasium as gym\n",
    "import numpy as np\n",
    "import matplotlib.pyplot as plt\n",
    "import time\n",
    "import random\n",
    "from tqdm.auto import tqdm"
   ]
  },
  {
   "cell_type": "code",
   "execution_count": 66,
   "metadata": {},
   "outputs": [
    {
     "data": {
      "text/plain": [
       "<contextlib.ExitStack at 0x1dda6dfc5d0>"
      ]
     },
     "execution_count": 66,
     "metadata": {},
     "output_type": "execute_result"
    }
   ],
   "source": [
    "import matplotlib\n",
    "is_ipython = 'inline' in matplotlib.get_backend()\n",
    "if is_ipython:\n",
    "    from IPython import display\n",
    "\n",
    "plt.ion()\n"
   ]
  },
  {
   "cell_type": "code",
   "execution_count": 4,
   "metadata": {},
   "outputs": [
    {
     "data": {
      "text/plain": [
       "(4, 2)"
      ]
     },
     "execution_count": 4,
     "metadata": {},
     "output_type": "execute_result"
    }
   ],
   "source": [
    "env = gym.make('CartPole-v1', render_mode='human')\n",
    "actions = env.action_space.n\n",
    "states = env.observation_space.shape[0]\n",
    "\n",
    "states, actions"
   ]
  },
  {
   "cell_type": "code",
   "execution_count": 5,
   "metadata": {},
   "outputs": [
    {
     "data": {
      "text/plain": [
       "(array([-0.01381413,  0.02721718,  0.01523661, -0.03581971], dtype=float32),\n",
       " {})"
      ]
     },
     "execution_count": 5,
     "metadata": {},
     "output_type": "execute_result"
    }
   ],
   "source": [
    "env.reset()"
   ]
  },
  {
   "cell_type": "code",
   "execution_count": 11,
   "metadata": {},
   "outputs": [
    {
     "data": {
      "application/vnd.jupyter.widget-view+json": {
       "model_id": "3fcd66f2f3e24946a60574a4b6166d47",
       "version_major": 2,
       "version_minor": 0
      },
      "text/plain": [
       "  0%|          | 0/100 [00:00<?, ?it/s]"
      ]
     },
     "metadata": {},
     "output_type": "display_data"
    },
    {
     "name": "stdout",
     "output_type": "stream",
     "text": [
      "Episode 0 - Score: 34.0\n",
      "Episode 1 - Score: 28.0\n",
      "Episode 2 - Score: 19.0\n",
      "Episode 3 - Score: 28.0\n",
      "Episode 4 - Score: 20.0\n",
      "Episode 5 - Score: 11.0\n",
      "Episode 6 - Score: 43.0\n",
      "Episode 7 - Score: 11.0\n",
      "Episode 8 - Score: 13.0\n",
      "Episode 9 - Score: 22.0\n",
      "Episode 10 - Score: 30.0\n",
      "Episode 11 - Score: 23.0\n",
      "Episode 12 - Score: 23.0\n",
      "Episode 13 - Score: 35.0\n",
      "Episode 14 - Score: 31.0\n",
      "Episode 15 - Score: 21.0\n",
      "Episode 16 - Score: 20.0\n",
      "Episode 17 - Score: 17.0\n",
      "Episode 18 - Score: 48.0\n",
      "Episode 19 - Score: 38.0\n",
      "Episode 20 - Score: 28.0\n",
      "Episode 21 - Score: 18.0\n",
      "Episode 22 - Score: 14.0\n",
      "Episode 23 - Score: 20.0\n",
      "Episode 24 - Score: 9.0\n",
      "Episode 25 - Score: 23.0\n",
      "Episode 26 - Score: 10.0\n",
      "Episode 27 - Score: 13.0\n",
      "Episode 28 - Score: 40.0\n",
      "Episode 29 - Score: 28.0\n",
      "Episode 30 - Score: 28.0\n",
      "Episode 31 - Score: 20.0\n",
      "Episode 32 - Score: 18.0\n",
      "Episode 33 - Score: 12.0\n",
      "Episode 34 - Score: 25.0\n",
      "Episode 35 - Score: 21.0\n",
      "Episode 36 - Score: 43.0\n",
      "Episode 37 - Score: 20.0\n",
      "Episode 38 - Score: 9.0\n",
      "Episode 39 - Score: 11.0\n",
      "Episode 40 - Score: 14.0\n",
      "Episode 41 - Score: 15.0\n",
      "Episode 42 - Score: 45.0\n",
      "Episode 43 - Score: 12.0\n",
      "Episode 44 - Score: 42.0\n",
      "Episode 45 - Score: 15.0\n",
      "Episode 46 - Score: 10.0\n",
      "Episode 47 - Score: 23.0\n",
      "Episode 48 - Score: 14.0\n",
      "Episode 49 - Score: 26.0\n",
      "Episode 50 - Score: 41.0\n",
      "Episode 51 - Score: 46.0\n",
      "Episode 52 - Score: 15.0\n",
      "Episode 53 - Score: 17.0\n",
      "Episode 54 - Score: 32.0\n",
      "Episode 55 - Score: 17.0\n",
      "Episode 56 - Score: 24.0\n",
      "Episode 57 - Score: 24.0\n",
      "Episode 58 - Score: 37.0\n",
      "Episode 59 - Score: 50.0\n",
      "Episode 60 - Score: 19.0\n",
      "Episode 61 - Score: 17.0\n",
      "Episode 62 - Score: 12.0\n",
      "Episode 63 - Score: 15.0\n",
      "Episode 64 - Score: 19.0\n",
      "Episode 65 - Score: 29.0\n",
      "Episode 66 - Score: 13.0\n",
      "Episode 67 - Score: 16.0\n",
      "Episode 68 - Score: 28.0\n",
      "Episode 69 - Score: 16.0\n",
      "Episode 70 - Score: 9.0\n",
      "Episode 71 - Score: 11.0\n",
      "Episode 72 - Score: 35.0\n",
      "Episode 73 - Score: 33.0\n",
      "Episode 74 - Score: 24.0\n",
      "Episode 75 - Score: 32.0\n",
      "Episode 76 - Score: 19.0\n",
      "Episode 77 - Score: 8.0\n",
      "Episode 78 - Score: 15.0\n",
      "Episode 79 - Score: 26.0\n",
      "Episode 80 - Score: 26.0\n",
      "Episode 81 - Score: 36.0\n",
      "Episode 82 - Score: 30.0\n",
      "Episode 83 - Score: 46.0\n",
      "Episode 84 - Score: 12.0\n",
      "Episode 85 - Score: 34.0\n",
      "Episode 86 - Score: 50.0\n",
      "Episode 87 - Score: 23.0\n",
      "Episode 88 - Score: 16.0\n",
      "Episode 89 - Score: 27.0\n",
      "Episode 90 - Score: 15.0\n",
      "Episode 91 - Score: 24.0\n",
      "Episode 92 - Score: 30.0\n",
      "Episode 93 - Score: 17.0\n",
      "Episode 94 - Score: 18.0\n",
      "Episode 95 - Score: 19.0\n",
      "Episode 96 - Score: 23.0\n",
      "Episode 97 - Score: 18.0\n",
      "Episode 98 - Score: 19.0\n",
      "Episode 99 - Score: 18.0\n"
     ]
    }
   ],
   "source": [
    "# Random policy\n",
    "\n",
    "env.reset()\n",
    "episodes = 100\n",
    "\n",
    "for episode in tqdm(range(episodes)):\n",
    "    state = env.reset()\n",
    "    terminated = False\n",
    "    truncated = False\n",
    "    score = 0\n",
    "\n",
    "    while not terminated and not truncated:\n",
    "        action = env.action_space.sample()\n",
    "        state, reward, terminated, truncated, _ = env.step(action)\n",
    "        score += reward\n",
    "    \n",
    "    print(f'Episode {episode} - Score: {score}')\n",
    "\n"
   ]
  },
  {
   "cell_type": "code",
   "execution_count": 31,
   "metadata": {},
   "outputs": [
    {
     "name": "stdout",
     "output_type": "stream",
     "text": [
      "[[0. 0.]\n",
      " [0. 0.]\n",
      " [0. 0.]\n",
      " [0. 0.]]\n"
     ]
    }
   ],
   "source": [
    "# Q-Learning\n",
    "Q_table = np.zeros((states, actions))\n",
    "\n",
    "print(Q_table)"
   ]
  },
  {
   "cell_type": "code",
   "execution_count": 32,
   "metadata": {},
   "outputs": [
    {
     "data": {
      "text/plain": [
       "0"
      ]
     },
     "execution_count": 32,
     "metadata": {},
     "output_type": "execute_result"
    }
   ],
   "source": [
    "env.action_space.sample()"
   ]
  },
  {
   "cell_type": "code",
   "execution_count": 33,
   "metadata": {},
   "outputs": [
    {
     "data": {
      "text/plain": [
       "array([ 1.8169101e+00, -3.1527205e+38,  3.2432642e-02,  2.9420670e+38],\n",
       "      dtype=float32)"
      ]
     },
     "execution_count": 33,
     "metadata": {},
     "output_type": "execute_result"
    }
   ],
   "source": [
    "env.observation_space.sample()"
   ]
  },
  {
   "cell_type": "code",
   "execution_count": 53,
   "metadata": {},
   "outputs": [],
   "source": [
    "episode_durations = []\n",
    "def plot_durations():\n",
    "    plt.figure(1)\n",
    "    # plt.clf()\n",
    "    plt.title('Training...')\n",
    "\n",
    "    plt.xlabel('Episode')\n",
    "    plt.ylabel('Duration')\n",
    "    plt.plot(episode_durations)\n",
    "\n",
    "    if len(episode_durations) >= 100:\n",
    "        means = np.convolve(episode_durations, np.ones(100)/100, mode='valid')\n",
    "        plt.plot(means)\n",
    "\n",
    "    plt.pause(0.001)\n",
    "\n",
    "    if is_ipython:\n",
    "        display.clear_output(wait=True)\n",
    "        display.display(plt.gcf())\n",
    "\n",
    "\n",
    "\n"
   ]
  },
  {
   "cell_type": "code",
   "execution_count": 34,
   "metadata": {},
   "outputs": [
    {
     "data": {
      "application/vnd.jupyter.widget-view+json": {
       "model_id": "1954ac018ea946c8a349da6d9a9bd8bc",
       "version_major": 2,
       "version_minor": 0
      },
      "text/plain": [
       "  0%|          | 0/500 [00:00<?, ?it/s]"
      ]
     },
     "metadata": {},
     "output_type": "display_data"
    },
    {
     "ename": "ValueError",
     "evalue": "setting an array element with a sequence. The requested array has an inhomogeneous shape after 1 dimensions. The detected shape was (2,) + inhomogeneous part.",
     "output_type": "error",
     "traceback": [
      "\u001b[1;31m---------------------------------------------------------------------------\u001b[0m",
      "\u001b[1;31mValueError\u001b[0m                                Traceback (most recent call last)",
      "Cell \u001b[1;32mIn[34], line 24\u001b[0m\n\u001b[0;32m     21\u001b[0m next_state, reward, terminated, truncated, _ \u001b[38;5;241m=\u001b[39m env\u001b[38;5;241m.\u001b[39mstep(action)\n\u001b[0;32m     22\u001b[0m done \u001b[38;5;241m=\u001b[39m terminated \u001b[38;5;129;01mor\u001b[39;00m truncated\n\u001b[1;32m---> 24\u001b[0m Q_table[state, action] \u001b[38;5;241m=\u001b[39m \u001b[43mQ_table\u001b[49m\u001b[43m[\u001b[49m\u001b[43mstate\u001b[49m\u001b[43m,\u001b[49m\u001b[43m \u001b[49m\u001b[43maction\u001b[49m\u001b[43m]\u001b[49m \u001b[38;5;241m+\u001b[39m alpha \u001b[38;5;241m*\u001b[39m (reward \u001b[38;5;241m+\u001b[39m gamma \u001b[38;5;241m*\u001b[39m np\u001b[38;5;241m.\u001b[39mmax(Q_table[next_state]) \u001b[38;5;241m-\u001b[39m Q_table[state, action])\n\u001b[0;32m     26\u001b[0m state \u001b[38;5;241m=\u001b[39m next_state\n\u001b[0;32m     27\u001b[0m score \u001b[38;5;241m+\u001b[39m\u001b[38;5;241m=\u001b[39m reward\n",
      "\u001b[1;31mValueError\u001b[0m: setting an array element with a sequence. The requested array has an inhomogeneous shape after 1 dimensions. The detected shape was (2,) + inhomogeneous part."
     ]
    }
   ],
   "source": [
    "# Hyperparameters\n",
    "alpha = 0.1\n",
    "gamma = 0.99\n",
    "episodes = 500\n",
    "epsilon = 1.0\n",
    "epsilon_decay = 0.999\n",
    "\n",
    "for episode in tqdm(range(episodes)):\n",
    "    state = env.reset()\n",
    "    terminated = False\n",
    "    truncated = False\n",
    "    score = 0\n",
    "\n",
    "    while not terminated and not truncated:\n",
    "        random_number = np.random.rand()\n",
    "        if random_number < epsilon:\n",
    "            action = env.action_space.sample()\n",
    "        else:\n",
    "            action = np.argmax(Q_table[state])\n",
    "\n",
    "        next_state, reward, terminated, truncated, _ = env.step(action)\n",
    "        done = terminated or truncated\n",
    "\n",
    "        Q_table[state, action] = Q_table[state, action] + alpha * (reward + gamma * np.max(Q_table[next_state]) - Q_table[state, action])\n",
    "\n",
    "        state = next_state\n",
    "        score += reward\n",
    "\n",
    "        if done:\n",
    "            episode_durations.append(score)\n",
    "            plot_durations()\n",
    "            epsilon -= epsilon_decay\n",
    "            break\n"
   ]
  },
  {
   "cell_type": "code",
   "execution_count": 13,
   "metadata": {},
   "outputs": [
    {
     "data": {
      "text/plain": [
       "array([ 0.0148378 ,  0.02510279, -0.04010926, -0.03058138], dtype=float32)"
      ]
     },
     "execution_count": 13,
     "metadata": {},
     "output_type": "execute_result"
    }
   ],
   "source": [
    "state = env.reset()[0]\n",
    "state"
   ]
  },
  {
   "attachments": {
    "image.png": {
     "image/png": "[encoded data removed]"
    }
   },
   "cell_type": "markdown",
   "metadata": {},
   "source": [
    "## Why does this not work?\n",
    "##### Why is there an error while executing the Q Learning Code?\n",
    "\n",
    "This is happening because the code currently (which is the same as that written for `FrozenLake-v1`) expects the state space (observation space) t obe completely discrete (cell number in case of `FrozenLake-v1`).\n",
    "\n",
    "However, the state space of the Cart Pole system is not discrete. This is because the state row vector\n",
    "![image.png](attachment:image.png)\n",
    "is continuous. This means that any of the state variables `x, \\dot{x}, \\theta, and \\dot{\\theta}` can take any value in the prescribed continuous intervals determined by the limits of the state space. Consequently, since the action value function Q(S,A) is a function of the state, this means that we have an infinite number of action-value functions. Consequently, it is practically impossible to store and update the value of Q(S,A).\n",
    "What we want is actually a finite set of action values that can be updated. That is, we want to approximate a continuous state-space by a finite discrete state-space.\n",
    "\n"
   ]
  },
  {
   "attachments": {
    "image.png": {
     "image/png": "[encoded data removed]"
    }
   },
   "cell_type": "markdown",
   "metadata": {},
   "source": [
    "### Quantization or Discretization\n",
    "\n",
    "To achieve that, we need to discretize each state variable. For example, let us assume that the state x can be in the interval [0,1]. Then, we can divide this interval into 4 segments:\n",
    "\n",
    "- Segment 0 [0.25]\n",
    "- Segment 1 (0.25,0.5]\n",
    "- Segment 2 (0.5,0.75]\n",
    "- Segment 3 (0.75,1]\n",
    "\n",
    "The indices of segments start from 0, since we want to be consistent with the Python notation. Then, if for example, x=0.6, we can see that the x belongs to the segment 2. Consequently, we assign\n",
    "\n",
    "\n",
    "x=0.6 -> 2\n",
    "\n",
    "On the other hand, if x=0.213, we can see that this x belongs to the segment 0. Consequently, we assign\n",
    "\n",
    "x=0.213 -> 0\n",
    "\n",
    "We can perform this discretization for other state variables. In this way, we can assign to every continuous state \n",
    "\n",
    "![image.png](attachment:image.png)\n"
   ]
  },
  {
   "cell_type": "markdown",
   "metadata": {},
   "source": [
    "### Trying this shit now"
   ]
  },
  {
   "cell_type": "code",
   "execution_count": 54,
   "metadata": {},
   "outputs": [],
   "source": [
    "position_space = np.linspace(-2.4, 2.4, 10)\n",
    "velocity_space = np.linspace(-4, 4, 10)\n",
    "angle_space = np.linspace(-0.21, 0.21, 10)\n",
    "angular_velocity_space = np.linspace(-4, 4, 10)"
   ]
  },
  {
   "cell_type": "code",
   "execution_count": 55,
   "metadata": {},
   "outputs": [],
   "source": [
    "Q_table = np.zeros((len(position_space)+1, len(velocity_space)+1, len(angle_space)+1, len(angular_velocity_space)+1, actions))"
   ]
  },
  {
   "cell_type": "code",
   "execution_count": 56,
   "metadata": {},
   "outputs": [
    {
     "data": {
      "text/plain": [
       "(11, 11, 11, 11, 2)"
      ]
     },
     "execution_count": 56,
     "metadata": {},
     "output_type": "execute_result"
    }
   ],
   "source": [
    "Q_table.shape"
   ]
  },
  {
   "cell_type": "code",
   "execution_count": 65,
   "metadata": {},
   "outputs": [],
   "source": [
    "import torch"
   ]
  },
  {
   "cell_type": "code",
   "execution_count": 62,
   "metadata": {},
   "outputs": [],
   "source": [
    "episode_durations = []"
   ]
  },
  {
   "cell_type": "code",
   "execution_count": 67,
   "metadata": {},
   "outputs": [],
   "source": [
    "def plot_durations(show_result=False):\n",
    "    plt.figure(1)\n",
    "    durations_t = torch.tensor(episode_durations, dtype=torch.float)\n",
    "    if show_result:\n",
    "        plt.title('Result')\n",
    "    else:\n",
    "        plt.clf()\n",
    "        plt.title('Training...')\n",
    "    plt.xlabel('Episode')\n",
    "    plt.ylabel('Duration')\n",
    "    plt.plot(durations_t.numpy())\n",
    "    # Take 100 episode averages and plot them too\n",
    "    if len(durations_t) >= 100:\n",
    "        means = durations_t.unfold(0, 100, 1).mean(1).view(-1)\n",
    "        means = torch.cat((torch.zeros(99), means))\n",
    "        plt.plot(means.numpy())\n",
    "\n",
    "    plt.pause(0.001)  # pause a bit so that plots are updated\n",
    "    if is_ipython:\n",
    "        if not show_result:\n",
    "            display.display(plt.gcf())\n",
    "            display.clear_output(wait=True)\n",
    "        else:\n",
    "            display.display(plt.gcf())\n"
   ]
  },
  {
   "cell_type": "code",
   "execution_count": 68,
   "metadata": {},
   "outputs": [
    {
     "data": {
      "text/plain": [
       "<Figure size 640x480 with 0 Axes>"
      ]
     },
     "metadata": {},
     "output_type": "display_data"
    }
   ],
   "source": [
    "# Hyperparameters\n",
    "alpha = 0.1\n",
    "gamma = 0.99\n",
    "episodes = 500\n",
    "epsilon = 1.0\n",
    "epsilon_decay = 0.999\n",
    "\n",
    "for episode in tqdm(range(episodes)):\n",
    "    state = env.reset()[0]\n",
    "    state_p = np.digitize(state[0], position_space)\n",
    "    state_v = np.digitize(state[1], velocity_space)\n",
    "    state_a = np.digitize(state[2], angle_space)\n",
    "    state_av = np.digitize(state[3], angular_velocity_space)\n",
    "\n",
    "    terminated = False\n",
    "    truncated = False\n",
    "\n",
    "    score = 0\n",
    "\n",
    "    while not terminated and not truncated:\n",
    "        random_number = np.random.rand()\n",
    "        if random_number < epsilon:\n",
    "            action = env.action_space.sample()\n",
    "        else:\n",
    "            action = np.argmax(Q_table[state_p, state_v, state_a, state_av, :])\n",
    "\n",
    "        next_state, reward, terminated, truncated, _ = env.step(action)\n",
    "        next_state_p = np.digitize(next_state[0], position_space)\n",
    "        next_state_v = np.digitize(next_state[1], velocity_space)\n",
    "        next_state_a = np.digitize(next_state[2], angle_space)\n",
    "        next_state_av = np.digitize(next_state[3], angular_velocity_space)\n",
    "        done = terminated or truncated\n",
    "\n",
    "        Q_table[state_p, state_v, state_a, state_av, action] = Q_table[state_p, state_v, state_a, state_av, action] + alpha * (reward + gamma * np.max(Q_table[next_state_p, next_state_v, next_state_a, next_state_av]) - Q_table[state_p, state_v, state_a, state_av, action])\n",
    "\n",
    "        state = next_state\n",
    "        state_p = next_state_p\n",
    "        state_v = next_state_v\n",
    "        state_a = next_state_a\n",
    "        state_av = next_state_av\n",
    "\n",
    "        score += reward\n",
    "\n",
    "        if done:\n",
    "            episode_durations.append(score)\n",
    "            plot_durations()\n",
    "            epsilon = max(0.1, epsilon-epsilon_decay)\n",
    "            break"
   ]
  },
  {
   "cell_type": "code",
   "execution_count": 44,
   "metadata": {},
   "outputs": [
    {
     "data": {
      "text/plain": [
       "(5, 5, 5, 5)"
      ]
     },
     "execution_count": 44,
     "metadata": {},
     "output_type": "execute_result"
    }
   ],
   "source": [
    "state = env.reset()[0]\n",
    "state_p = np.digitize(state[0], position_space)\n",
    "state_v = np.digitize(state[1], velocity_space)\n",
    "state_a = np.digitize(state[2], angle_space)\n",
    "state_av = np.digitize(state[3], angular_velocity_space)\n",
    "\n",
    "state_p, state_v, state_a, state_av"
   ]
  },
  {
   "cell_type": "code",
   "execution_count": 60,
   "metadata": {},
   "outputs": [
    {
     "data": {
      "text/plain": [
       "[9.0,\n",
       " 9.0,\n",
       " 8.0,\n",
       " 9.0,\n",
       " 9.0,\n",
       " 9.0,\n",
       " 10.0,\n",
       " 10.0,\n",
       " 10.0,\n",
       " 16.0,\n",
       " 8.0,\n",
       " 8.0,\n",
       " 9.0,\n",
       " 9.0,\n",
       " 8.0,\n",
       " 9.0,\n",
       " 13.0]"
      ]
     },
     "execution_count": 60,
     "metadata": {},
     "output_type": "execute_result"
    }
   ],
   "source": []
  },
  {
   "cell_type": "code",
   "execution_count": null,
   "metadata": {},
   "outputs": [],
   "source": []
  }
 ],
 "metadata": {
  "kernelspec": {
   "display_name": "Python 3",
   "language": "python",
   "name": "python3"
  },
  "language_info": {
   "codemirror_mode": {
    "name": "ipython",
    "version": 3
   },
   "file_extension": ".py",
   "mimetype": "text/x-python",
   "name": "python",
   "nbconvert_exporter": "python",
   "pygments_lexer": "ipython3",
   "version": "3.11.5"
  }
 },
 "nbformat": 4,
 "nbformat_minor": 2
}
