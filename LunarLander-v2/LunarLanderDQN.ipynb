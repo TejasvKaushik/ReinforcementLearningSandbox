{
 "cells": [
  {
   "cell_type": "code",
   "execution_count": 89,
   "metadata": {},
   "outputs": [],
   "source": [
    "import gymnasium as gym\n",
    "import numpy as np \n",
    "import matplotlib\n",
    "import matplotlib.pyplot as plt \n",
    "import random\n",
    "from collections import deque, namedtuple\n",
    "from tqdm.auto import tqdm\n",
    "from itertools import count\n",
    "\n",
    "import torch\n",
    "import torch.nn as nn\n",
    "import torch.optim as optim\n",
    "\n",
    "from gymnasium.wrappers.monitoring import video_recorder\n",
    "from IPython.display import HTML\n",
    "from IPython import display\n",
    "import glob\n",
    "import io, base64"
   ]
  },
  {
   "cell_type": "code",
   "execution_count": 90,
   "metadata": {},
   "outputs": [
    {
     "data": {
      "text/plain": [
       "<contextlib.ExitStack at 0x1ef81a58b90>"
      ]
     },
     "execution_count": 90,
     "metadata": {},
     "output_type": "execute_result"
    }
   ],
   "source": [
    "is_ipython = 'inline' in matplotlib.get_backend()\n",
    "if is_ipython:\n",
    "    from IPython import display\n",
    "\n",
    "plt.ion()"
   ]
  },
  {
   "cell_type": "code",
   "execution_count": 91,
   "metadata": {},
   "outputs": [
    {
     "data": {
      "text/plain": [
       "(8, 4)"
      ]
     },
     "execution_count": 91,
     "metadata": {},
     "output_type": "execute_result"
    }
   ],
   "source": [
    "env = gym.make('LunarLander-v2')\n",
    "num_states = env.observation_space.shape[0]\n",
    "num_actions = env.action_space.n\n",
    "\n",
    "num_states, num_actions"
   ]
  },
  {
   "cell_type": "code",
   "execution_count": 92,
   "metadata": {},
   "outputs": [],
   "source": [
    "class ReplayMemory(object):\n",
    "    def __init__(self, capacity):\n",
    "        self.capacity = capacity\n",
    "        self.transition = namedtuple(\"Transition\", field_names=[\"state\", \"action\", \"reward\", \"next_state\", \"done\"])\n",
    "        self.memory = deque(maxlen=capacity)\n",
    "    \n",
    "    def push(self, *args):\n",
    "        transition = self.transition(*args)\n",
    "        self.memory.append(transition)\n",
    "    \n",
    "    def sample(self, batch_size):\n",
    "        transitions = random.sample(self.memory, batch_size)\n",
    "\n",
    "        states = torch.from_numpy(np.vstack([transition.state for transition in transitions if transition is not None])).float()\n",
    "        actions = torch.from_numpy(np.vstack([transition.action for transition in transitions if transition is not None])).long()\n",
    "        rewards = torch.from_numpy(np.vstack([transition.reward for transition in transitions if transition is not None])).float()\n",
    "        next_states = torch.from_numpy(np.vstack([transition.next_state for transition in transitions if transition is not None])).float()\n",
    "        dones = torch.from_numpy(np.vstack([transition.done for transition in transitions if transition is not None]).astype(np.uint8)).float()\n",
    "\n",
    "        return (states, actions, rewards, next_states, dones)\n",
    "    \n",
    "    def __len__(self):\n",
    "        return len(self.memory)\n",
    "\n",
    "class DQN(nn.Module):\n",
    "    def __init__(self, input_dim, output_dim):\n",
    "        super(DQN, self).__init__()\n",
    "        self.net = nn.Sequential(\n",
    "            nn.Linear(input_dim, 64),\n",
    "            nn.ReLU(),\n",
    "            nn.Linear(64, 64),\n",
    "            nn.ReLU(),\n",
    "            nn.Linear(64, output_dim)\n",
    "        )\n",
    "    \n",
    "    def forward(self, x):\n",
    "        return self.net(x)"
   ]
  },
  {
   "cell_type": "code",
   "execution_count": 93,
   "metadata": {},
   "outputs": [],
   "source": [
    "# HYPERPARAMETERS\n",
    "BATCH_SIZE = 64\n",
    "GAMMA = 0.99\n",
    "ALPHA = 5e-4\n",
    "REPLAY_MEMORY_SIZE = int(1e5)\n",
    "UPDATE_RATE = 5\n",
    "# EPSILON = 1.0\n",
    "# EPSILON_DECAY = 0.9995\n",
    "# EPSILON_MIN = 0.01\n",
    "TAU = 1e-3\n",
    "\n",
    "class DQNAgent():\n",
    "    def __init__(self, n_states, n_actions):\n",
    "        self.n_states = n_states\n",
    "        self.n_actions = n_actions\n",
    "\n",
    "        self.policy_net = DQN(n_states, n_actions)\n",
    "        self.target_net = DQN(n_states, n_actions)\n",
    "        self.target_net.load_state_dict(self.policy_net.state_dict())\n",
    "\n",
    "        self.memory = ReplayMemory(REPLAY_MEMORY_SIZE)\n",
    "        self.optimizer = optim.Adam(self.policy_net.parameters(), lr=ALPHA)\n",
    "        self.loss_fn = nn.MSELoss()\n",
    "\n",
    "        self.steps_done = 0\n",
    "\n",
    "    def select_action(self, state, epsilon=0.):\n",
    "        state = torch.from_numpy(state).float().unsqueeze(0)\n",
    "        self.policy_net.eval()\n",
    "        with torch.inference_mode():\n",
    "            action_values = self.policy_net(state)\n",
    "        self.policy_net.train()\n",
    "\n",
    "        random_number = random.random()\n",
    "        if random_number > epsilon:\n",
    "            return np.argmax(action_values.detach().numpy())\n",
    "        else:\n",
    "            return random.choice(np.arange(self.n_actions))\n",
    "        \n",
    "    def make_transition(self, state, action, reward, next_state, done):\n",
    "        self.memory.push(state, action, reward, next_state, done)\n",
    "\n",
    "        self.steps_done += 1\n",
    "        if self.steps_done % UPDATE_RATE == 0:\n",
    "            if len(self.memory) > BATCH_SIZE:\n",
    "                self.optimize_model()\n",
    "        \n",
    "    def optimize_model(self):\n",
    "        states, actions, rewards, next_states, dones = self.memory.sample(BATCH_SIZE)\n",
    "\n",
    "        q_targets = rewards + GAMMA * self.target_net(next_states).max(1)[0].unsqueeze(1) * (1 - dones)\n",
    "        q_expected = self.policy_net(states).gather(1, actions)\n",
    "\n",
    "        loss = self.loss_fn(q_expected, q_targets)\n",
    "        self.optimizer.zero_grad()\n",
    "        loss.backward()\n",
    "        self.optimizer.step()\n",
    "\n",
    "        self.soft_update(self.policy_net, self.target_net)\n",
    "\n",
    "    def soft_update(self, policy_net, target_net):\n",
    "        for target_param, policy_param in zip(target_net.parameters(), policy_net.parameters()):\n",
    "            target_param.data.copy_(TAU * policy_param.data + (1.0 - TAU) * target_param.data)\n",
    "        "
   ]
  },
  {
   "cell_type": "code",
   "execution_count": 94,
   "metadata": {},
   "outputs": [],
   "source": [
    "episode_scores = []"
   ]
  },
  {
   "cell_type": "code",
   "execution_count": 95,
   "metadata": {},
   "outputs": [],
   "source": [
    "def plot_scores(show_result=False):\n",
    "    plt.figure(1)\n",
    "    scores_t = torch.tensor(episode_scores, dtype=torch.float)\n",
    "    if show_result:\n",
    "        plt.title('Result')\n",
    "    else:\n",
    "        plt.clf()\n",
    "        plt.title('Training...')\n",
    "    plt.xlabel('Episode')\n",
    "    plt.ylabel('Duration')\n",
    "    plt.plot(scores_t.numpy())\n",
    "    # Take 100 episode averages and plot them too\n",
    "    if len(scores_t) >= 100:\n",
    "        means = scores_t.unfold(0, 100, 1).mean(1).view(-1)\n",
    "        means = torch.cat((torch.zeros(99), means))\n",
    "        plt.plot(means.numpy())\n",
    "\n",
    "    plt.pause(0.001)  # pause a bit so that plots are updated\n",
    "    if is_ipython:\n",
    "        if not show_result:\n",
    "            display.display(plt.gcf())\n",
    "            display.clear_output(wait=True)\n",
    "        else:\n",
    "            display.display(plt.gcf())\n"
   ]
  },
  {
   "cell_type": "code",
   "execution_count": 96,
   "metadata": {},
   "outputs": [],
   "source": [
    "# HYPERPARAMETERS\n",
    "BATCH_SIZE = 64\n",
    "GAMMA = 0.99\n",
    "ALPHA = 5e-4\n",
    "REPLAY_MEMORY_SIZE = int(1e5)\n",
    "UPDATE_RATE = 5\n",
    "# EPSILON = 1.0\n",
    "# EPSILON_DECAY = 0.9995\n",
    "# EPSILON_MIN = 0.01\n",
    "TAU = 1e-3\n",
    "EPISODES = 2500\n",
    "MAX_TIMESTEPS = 1000\n",
    "\n",
    "def train(agent):\n",
    "    EPSILON = 1.0\n",
    "    EPSILON_DECAY = 0.9995\n",
    "    EPSILON_MIN = 0.1\n",
    "    for episode in tqdm(range(EPISODES)):\n",
    "        state = env.reset()[0]\n",
    "        score = 0\n",
    "\n",
    "        for t in range(MAX_TIMESTEPS):\n",
    "            action = agent.select_action(state, EPSILON)\n",
    "            next_state, reward, terminated, truncated, _ = env.step(action)\n",
    "            done = terminated or truncated\n",
    "            agent.make_transition(state, action, reward, next_state, done)\n",
    "            state = next_state\n",
    "            score += reward\n",
    "\n",
    "            if done:\n",
    "                episode_scores.append(score)\n",
    "                plot_scores()\n",
    "                EPSILON = max(EPSILON_MIN, EPSILON_DECAY * EPSILON)\n",
    "                break\n",
    "        "
   ]
  },
  {
   "cell_type": "code",
   "execution_count": 97,
   "metadata": {},
   "outputs": [
    {
     "data": {
      "image/png": "[encoded data removed]",
      "text/plain": [
       "<Figure size 640x480 with 1 Axes>"
      ]
     },
     "metadata": {},
     "output_type": "display_data"
    },
    {
     "data": {
      "text/plain": [
       "<Figure size 640x480 with 0 Axes>"
      ]
     },
     "metadata": {},
     "output_type": "display_data"
    },
    {
     "data": {
      "text/plain": [
       "<Figure size 640x480 with 0 Axes>"
      ]
     },
     "metadata": {},
     "output_type": "display_data"
    }
   ],
   "source": [
    "agent = DQNAgent(num_states, num_actions)\n",
    "train(agent)\n",
    "\n",
    "plot_scores(show_result=True)\n",
    "plt.ioff()\n",
    "plt.show()"
   ]
  },
  {
   "cell_type": "code",
   "execution_count": 60,
   "metadata": {},
   "outputs": [
    {
     "data": {
      "text/plain": [
       "numpy.ndarray"
      ]
     },
     "execution_count": 60,
     "metadata": {},
     "output_type": "execute_result"
    }
   ],
   "source": [
    "state = env.reset()[0]\n",
    "type(state)"
   ]
  },
  {
   "cell_type": "code",
   "execution_count": 103,
   "metadata": {},
   "outputs": [],
   "source": [
    "env.close()"
   ]
  },
  {
   "cell_type": "code",
   "execution_count": 104,
   "metadata": {},
   "outputs": [],
   "source": [
    "env = gym.make('LunarLander-v2', render_mode='human')"
   ]
  },
  {
   "cell_type": "code",
   "execution_count": 109,
   "metadata": {},
   "outputs": [],
   "source": [
    "# Test the agent\n",
    "def test(env, agent, loop=3):\n",
    "    for i in range(loop):\n",
    "        state = env.reset()[0]\n",
    "        for idx in range(500):\n",
    "            action = agent.select_action(state, epsilon=0)\n",
    "            state, reward, terminated, truncated, _ = env.step(action)\n",
    "            env.render()\n",
    "            if terminated or truncated:\n",
    "                break\n"
   ]
  },
  {
   "cell_type": "code",
   "execution_count": 111,
   "metadata": {},
   "outputs": [],
   "source": [
    "test(env, agent, loop=10)"
   ]
  },
  {
   "cell_type": "code",
   "execution_count": null,
   "metadata": {},
   "outputs": [],
   "source": []
  }
 ],
 "metadata": {
  "kernelspec": {
   "display_name": "Python 3",
   "language": "python",
   "name": "python3"
  },
  "language_info": {
   "codemirror_mode": {
    "name": "ipython",
    "version": 3
   },
   "file_extension": ".py",
   "mimetype": "text/x-python",
   "name": "python",
   "nbconvert_exporter": "python",
   "pygments_lexer": "ipython3",
   "version": "3.11.5"
  }
 },
 "nbformat": 4,
 "nbformat_minor": 2
}
